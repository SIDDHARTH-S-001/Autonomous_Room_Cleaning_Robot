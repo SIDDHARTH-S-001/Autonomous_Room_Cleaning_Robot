{
 "cells": [
  {
   "attachments": {},
   "cell_type": "markdown",
   "metadata": {},
   "source": [
    "Libraries"
   ]
  },
  {
   "cell_type": "code",
   "execution_count": 5,
   "metadata": {},
   "outputs": [],
   "source": [
    "#!/usr/bin/env python3\n",
    "\n",
    "import rospy\n",
    "from sensor_msgs.msg import LaserScan\n",
    "from nav_msgs.msg import OccupancyGrid\n",
    "import numpy as np"
   ]
  },
  {
   "attachments": {},
   "cell_type": "markdown",
   "metadata": {},
   "source": [
    "Map Parameters"
   ]
  },
  {
   "cell_type": "code",
   "execution_count": 2,
   "metadata": {},
   "outputs": [],
   "source": [
    "map_width = 100 # meters\n",
    "map_height = 100 # meters\n",
    "map_resolution = 0.1 # meters\n",
    "scan_range = 8 # meters"
   ]
  },
  {
   "attachments": {},
   "cell_type": "markdown",
   "metadata": {},
   "source": [
    "Scan Information"
   ]
  },
  {
   "cell_type": "code",
   "execution_count": 14,
   "metadata": {},
   "outputs": [],
   "source": [
    "def scan_data(data):\n",
    "    global occupancy_grid\n",
    "    # initialise occupancy grid\n",
    "    occupancy_grid = OccupancyGrid()\n",
    "    occupancy_grid.header.frame_id = \"map\"\n",
    "    occupancy_grid.header.stamp = rospy.Time.now()\n",
    "    occupancy_grid.info.resolution = map_resolution\n",
    "    occupancy_grid.info.width = int(map_width / map_resolution)\n",
    "    occupancy_grid.info.height = int(map_height / map_resolution)\n",
    "    occupancy_grid.info.origin.position.x = -map_width/2\n",
    "    occupancy_grid.info.origin.position.y = -map_height/2\n",
    "    occupancy_grid.data = [-1] * occupancy_grid.info.width * occupancy_grid.info.height\n",
    "\n",
    "    # convert scan data to occupancy grid data\n",
    "    for i, scan_value in enumerate(data.ranges):\n",
    "        if scan_value < scan_range:\n",
    "            # convert angle to index in the occupancy grid array\n",
    "            angle = data.angle_min + i * data.angle_increment\n",
    "            x = int((scan_value * np.cos(angle) + map_width/2) / map_resolution)\n",
    "            y = int((scan_value * np.sin(angle) + map_height/2) / map_resolution)\n",
    "            # set the corresponding cell in the occupancy grid to occupied\n",
    "            occupancy_grid.data[x + y * occupancy_grid.info.width] = 100\n",
    "\n",
    "    # publish the occupancy grid\n",
    "    occupancy_grid_pub.publish(occupancy_grid)\n",
    "\n",
    "if __name__ == '__main__':\n",
    "    rospy.init_node('occupancy_grid_node', anonymous=True)\n",
    "    rospy.Subscriber(\"/scan\", LaserScan, scan_data)\n",
    "    occupancy_grid_pub = rospy.Publisher(\"/map\", OccupancyGrid, queue_size=10)\n",
    "\n",
    "    rospy.spin()    \n",
    "    # rate = rospy.Rate(10)\n",
    "    # while not rospy.is_shutdown():\n",
    "    #     rate.sleep()"
   ]
  },
  {
   "cell_type": "code",
   "execution_count": null,
   "metadata": {},
   "outputs": [],
   "source": []
  }
 ],
 "metadata": {
  "kernelspec": {
   "display_name": "Python 3",
   "language": "python",
   "name": "python3"
  },
  "language_info": {
   "codemirror_mode": {
    "name": "ipython",
    "version": 3
   },
   "file_extension": ".py",
   "mimetype": "text/x-python",
   "name": "python",
   "nbconvert_exporter": "python",
   "pygments_lexer": "ipython3",
   "version": "3.8.10"
  },
  "orig_nbformat": 4
 },
 "nbformat": 4,
 "nbformat_minor": 2
}
